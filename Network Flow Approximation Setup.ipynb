{
 "cells": [
  {
   "cell_type": "markdown",
   "id": "cc753124",
   "metadata": {},
   "source": [
    "# Network Flow Approximation Setup"
   ]
  },
  {
   "cell_type": "markdown",
   "id": "46a68d7c",
   "metadata": {},
   "source": [
    "### Import util functions and create dataset"
   ]
  },
  {
   "cell_type": "code",
   "execution_count": 2,
   "id": "8443c61a",
   "metadata": {},
   "outputs": [],
   "source": [
    "from util_functions import *"
   ]
  },
  {
   "cell_type": "code",
   "execution_count": 3,
   "id": "95efc53a",
   "metadata": {},
   "outputs": [],
   "source": [
    "n_matrices = 10000\n",
    "generate_and_save_matrices_in_pickle(n_matrices)"
   ]
  },
  {
   "cell_type": "markdown",
   "id": "0bbb21e9",
   "metadata": {},
   "source": [
    "### Load in data and verify"
   ]
  },
  {
   "cell_type": "code",
   "execution_count": 15,
   "id": "c85c9cf8",
   "metadata": {},
   "outputs": [
    {
     "name": "stdout",
     "output_type": "stream",
     "text": [
      "8\n"
     ]
    }
   ],
   "source": [
    "adjacency_matrices = load_data_from_pickle('./data/adjacency_matrices.pickle')\n",
    "print(len(adjacency_matrices))"
   ]
  },
  {
   "cell_type": "code",
   "execution_count": 16,
   "id": "0fc11928",
   "metadata": {},
   "outputs": [
    {
     "name": "stdout",
     "output_type": "stream",
     "text": [
      "[2.0, 5.0, 5.0, 9.0, 4.0, 6.0, 11.0, 12.0]\n"
     ]
    }
   ],
   "source": [
    "flows = load_data_from_pickle('./data/flows.pickle')\n",
    "print(flows)"
   ]
  }
 ],
 "metadata": {
  "kernelspec": {
   "display_name": "Python 3 (ipykernel)",
   "language": "python",
   "name": "python3"
  },
  "language_info": {
   "codemirror_mode": {
    "name": "ipython",
    "version": 3
   },
   "file_extension": ".py",
   "mimetype": "text/x-python",
   "name": "python",
   "nbconvert_exporter": "python",
   "pygments_lexer": "ipython3",
   "version": "3.10.8"
  }
 },
 "nbformat": 4,
 "nbformat_minor": 5
}